{
 "cells": [
  {
   "cell_type": "markdown",
   "id": "c09ada11-d3a6-4837-b4d0-9657106a54b5",
   "metadata": {},
   "source": [
    "# CTRL - Function Approximation Tutorial: Tabular Fitted Q Iteration (FQI)\n",
    "\n",
    "Website: https://control-rl.github.io/\n",
    "\n",
    "Gymnasium documentation: https://gymnasium.farama.org/\n",
    "\n",
    "This notebook is adapted from the open-source tutorial of Antonin Raffin done at RLSS2023. The original tutorial can be found [here](https://github.com/araffin/rlss23-dqn-tutorial)\n",
    "\n",
    "## Introduction\n",
    "\n",
    "In this notebook, you will implement the Fitted Q Iteration (FQI) algorithm to solve the [CartPole](https://gymnasium.farama.org/environments/classic_control/cart_pole/) problem.\n",
    "\n",
    "This notebooks will first cover the basics for using the Gymnasium library: how to instantiate an environment, step into it and collect training data from the FQI algorithm.\n",
    "\n",
    "You will then learn how to implement step-by-step the FQI algorithm which is the predecessor of the [Deep Q-Network (DQN)](https://stable-baselines3.readthedocs.io/en/master/modules/dqn.html) algorithm."
   ]
  },
  {
   "cell_type": "markdown",
   "id": "8188798b-daf5-43a7-91ec-a7a922bc2034",
   "metadata": {},
   "source": [
    "## Install Dependencies"
   ]
  },
  {
   "cell_type": "code",
   "execution_count": null,
   "id": "0b55494c-fff2-4459-87e1-e7399afd56d5",
   "metadata": {},
   "outputs": [],
   "source": [
    "!pip install git+https://github.com/Control-RL/Function-Approximation --upgrade"
   ]
  },
  {
   "cell_type": "code",
   "execution_count": null,
   "id": "fae52974-fda2-487a-9f64-80bf58125785",
   "metadata": {},
   "outputs": [],
   "source": [
    "!apt-get install ffmpeg  # For visualization"
   ]
  },
  {
   "cell_type": "markdown",
   "id": "e2369b55-266c-4dbe-b14d-250ef7386407",
   "metadata": {},
   "source": [
    "## First steps with the Gym interface\n",
    "\n",
    "An environment that follows the [gym interface](https://gymnasium.farama.org/) is quite simple to use.\n",
    "It provides to this user mainly three methods, which have the following signature (for gym versions > 0.26):\n",
    "\n",
    "- `reset()` called at the beginning of an episode, it returns an observation and a dictionary with additional info (defaults to an empty dict)\n",
    "- `step(action)` called to take an action with the environment, it returns the next observation, the immediate reward, whether new state is a terminal state (episode is finished), whether the max number of timesteps is reached (episode is artificially finished), and additional information\n",
    "- (Optional) `render()` which allow to visualize the agent in action. Note that graphical interface does not work on google colab, so we cannot use it directly (we have to rely on `render_mode='rbg_array'` to retrieve an image of the scene).\n",
    "\n",
    "Under the hood, it also contains two useful properties:\n",
    "- `observation_space` which one of the gym spaces (`Discrete`, `Box`, ...) and describe the type and shape of the observation\n",
    "- `action_space` which is also a gym space object that describes the action space, so the type of action that can be taken\n",
    "\n",
    "The best way to learn about [gym spaces](https://gymnasium.farama.org/api/spaces/) is to look at the [source code](https://github.com/Farama-Foundation/Gymnasium/tree/main/gymnasium/spaces), but you need to know at least the main ones:\n",
    "- `gym.spaces.Box`: A (possibly unbounded) box in $R^n$. Specifically, a Box represents the Cartesian product of n closed intervals. Each interval has the form of one of [a, b], (-oo, b], [a, oo), or (-oo, oo). Example: A 1D-Vector or an image observation can be described with the Box space.\n",
    "```python\n",
    "# Example for using image as input:\n",
    "observation_space = spaces.Box(low=0, high=255, shape=(HEIGHT, WIDTH, N_CHANNELS), dtype=np.uint8)\n",
    "```                                       \n",
    "\n",
    "- `gym.spaces.Discrete`: A discrete space in $\\{ 0, 1, \\dots, n-1 \\}$\n",
    "  Example: if you have two actions (\"left\" and \"right\") you can represent your action space using `Discrete(2)`, the first action will be 0 and the second 1."
   ]
  },
  {
   "cell_type": "markdown",
   "id": "af049724-3db9-4dec-a40c-3aa025735f00",
   "metadata": {},
   "source": [
    "## CartPole Environment\n",
    "\n",
    "For this example, we will use CartPole environment, a classic control problem.\n",
    "\n",
    "\"A pole is attached by an un-actuated joint to a cart, which moves along a frictionless track. The system is controlled by applying a force of +1 or -1 to the cart. The pendulum starts upright, and the goal is to prevent it from falling over. A reward of +1 is provided for every timestep that the pole remains upright. \"\n",
    "\n",
    "Cartpole environment: [https://gymnasium.farama.org/environments/classic_control/cart_pole/](https://gymnasium.farama.org/environments/classic_control/cart_pole/)\n",
    "\n",
    "![Cartpole](https://cdn-images-1.medium.com/max/1143/1*h4WTQNVIsvMXJTCpXm_TAw.gif)"
   ]
  },
  {
   "cell_type": "code",
   "execution_count": 4,
   "id": "60ec422f-2edd-40df-8da2-c1093e1da38c",
   "metadata": {},
   "outputs": [],
   "source": [
    "import gymnasium as gym\n",
    "# Instantiate the environment\n",
    "env_id = \"CartPole-v1\"\n",
    "env_continuous  = gym.make(\"CartPole-v1\")"
   ]
  },
  {
   "cell_type": "code",
   "execution_count": 5,
   "id": "45a45ff7",
   "metadata": {},
   "outputs": [
    {
     "name": "stdout",
     "output_type": "stream",
     "text": [
      "Observation space: Box([-4.8               -inf -0.41887903        -inf], [4.8               inf 0.41887903        inf], (4,), float32)\n",
      "Shape: (4,)\n",
      "Action space: Discrete(2)\n"
     ]
    }
   ],
   "source": [
    "# Box(4,) means that it is a Vector with 4 components\n",
    "print(\"Observation space:\", env_continuous.observation_space)\n",
    "print(\"Shape:\", env_continuous.observation_space.shape)\n",
    "# Discrete(2) means that there is two discrete actions\n",
    "print(\"Action space:\", env_continuous.action_space)"
   ]
  },
  {
   "cell_type": "code",
   "execution_count": 6,
   "id": "0f04ad07",
   "metadata": {},
   "outputs": [],
   "source": [
    "# Discretize the state space\n",
    "from dqn_tutorial.env_utils import DiscretizeStateWrapper\n",
    "import numpy as np\n",
    "\n",
    "custom_bin_boundaries = gym.spaces.Box(\n",
    "    low=np.array([-2.4, -10.0, -0.30, -5.0], dtype=np.float32),\n",
    "    high=np.array([2.4, 10.0, 0.30, 5.0], dtype=np.float32),\n",
    ")\n",
    "\n",
    "n_bins = 4\n",
    "env_discrete = DiscretizeStateWrapper(env_continuous, n_bins=n_bins, custom_bin_boundaries=custom_bin_boundaries)"
   ]
  },
  {
   "cell_type": "code",
   "execution_count": 7,
   "id": "abf74d56",
   "metadata": {},
   "outputs": [
    {
     "data": {
      "text/plain": [
       "[(np.float32(-2.4),\n",
       "  np.float32(-1.2),\n",
       "  np.float32(0.0),\n",
       "  np.float32(1.2),\n",
       "  np.float32(2.4)),\n",
       " (np.float32(-10.0),\n",
       "  np.float32(-5.0),\n",
       "  np.float32(0.0),\n",
       "  np.float32(5.0),\n",
       "  np.float32(10.0)),\n",
       " (np.float32(-0.3),\n",
       "  np.float32(-0.15),\n",
       "  np.float32(0.0),\n",
       "  np.float32(0.15),\n",
       "  np.float32(0.3)),\n",
       " (np.float32(-5.0),\n",
       "  np.float32(-2.5),\n",
       "  np.float32(0.0),\n",
       "  np.float32(2.5),\n",
       "  np.float32(5.0))]"
      ]
     },
     "execution_count": 7,
     "metadata": {},
     "output_type": "execute_result"
    }
   ],
   "source": [
    "env_discrete._bins"
   ]
  },
  {
   "cell_type": "code",
   "execution_count": 8,
   "id": "476f88b6-4fe2-45ec-bddd-4d83feb3a86f",
   "metadata": {},
   "outputs": [
    {
     "name": "stdout",
     "output_type": "stream",
     "text": [
      "Observation space: Discrete(256)\n",
      "Shape: ()\n",
      "Action space: Discrete(2)\n"
     ]
    }
   ],
   "source": [
    "# Discrete(81) means that there is 81 discrete states (3^4)\n",
    "print(\"Observation space:\", env_discrete.observation_space)\n",
    "print(\"Shape:\", env_discrete.observation_space.shape)\n",
    "# Discrete(2) means that there is two discrete actions\n",
    "print(\"Action space:\", env_discrete.action_space)"
   ]
  },
  {
   "cell_type": "code",
   "execution_count": 9,
   "id": "e414990e-2cbd-4f6f-b268-42f16a9b253b",
   "metadata": {},
   "outputs": [],
   "source": [
    "# The reset method is called at the beginning of an episode\n",
    "obs, info = env_discrete.reset()"
   ]
  },
  {
   "cell_type": "code",
   "execution_count": 10,
   "id": "e89a95c8-d64a-43a3-adee-344891bbd1b7",
   "metadata": {},
   "outputs": [
    {
     "name": "stdout",
     "output_type": "stream",
     "text": [
      "Sampled action: 1\n"
     ]
    }
   ],
   "source": [
    "# Sample a random action\n",
    "action = env_discrete.action_space.sample()\n",
    "print(f\"Sampled action: {action}\")"
   ]
  },
  {
   "cell_type": "code",
   "execution_count": 11,
   "id": "311777a2-9518-496a-b1e8-0eb1af81fb7d",
   "metadata": {},
   "outputs": [],
   "source": [
    "# step in the environment\n",
    "obs, reward, terminated, truncated, info = env_discrete.step(action)"
   ]
  },
  {
   "cell_type": "code",
   "execution_count": 12,
   "id": "5102a9c8-8407-4f88-b58d-4e3e5a00af3b",
   "metadata": {},
   "outputs": [
    {
     "name": "stdout",
     "output_type": "stream",
     "text": [
      "89 1.0 False False {}\n"
     ]
    }
   ],
   "source": [
    "# Note the obs is an int (the state index)\n",
    "# info is an empty dict for now but can contain any debugging info\n",
    "# reward is a scalar\n",
    "print(obs, reward, terminated, truncated, info)"
   ]
  },
  {
   "cell_type": "markdown",
   "id": "90fbec50-1da0-4bc4-8b88-79fa38480bfe",
   "metadata": {},
   "source": [
    "### Exercise (10 minutes): write the function to collect data\n",
    "\n",
    "This function collects an offline dataset of transitions that will be used to train a model using the FQI algorithm.\n",
    "\n",
    "See docstring of the function for what is expected as input/output."
   ]
  },
  {
   "cell_type": "code",
   "execution_count": 13,
   "id": "1f1b3ff1-911b-4582-91f7-49420380eda3",
   "metadata": {},
   "outputs": [],
   "source": [
    "from dataclasses import dataclass\n",
    "\n",
    "from gymnasium import spaces\n",
    "\n",
    "\n",
    "@dataclass\n",
    "class OfflineData:\n",
    "    \"\"\"\n",
    "    A class to store transitions.\n",
    "    \"\"\"\n",
    "\n",
    "    observations: np.ndarray  # same as \"state\" in the theory\n",
    "    next_observations: np.ndarray\n",
    "    actions: np.ndarray\n",
    "    rewards: np.ndarray\n",
    "    terminateds: np.ndarray"
   ]
  },
  {
   "cell_type": "code",
   "execution_count": 14,
   "id": "f9f753ed-5f5d-4133-ab82-c84b3cfe2eef",
   "metadata": {},
   "outputs": [],
   "source": [
    "def collect_data(env_discrete: DiscretizeStateWrapper, n_steps: int = 50_000) -> OfflineData:\n",
    "    \"\"\"\n",
    "    Collect transitions using a random agent (sample action randomly).\n",
    "\n",
    "    :param env_discrete: The environment to collect data from.\n",
    "    :param n_steps: Number of steps to perform in the env_discrete.\n",
    "    :return: The collected transitions.\n",
    "    \"\"\"\n",
    "\n",
    "    # assert isinstance(env_discrete.observation_space, gym.spaces.Discrete)\n",
    "    # Numpy arrays (buffers) to collect the data\n",
    "    observations = np.zeros((n_steps, 1))\n",
    "    next_observations = np.zeros((n_steps, 1))\n",
    "    # Discrete actions\n",
    "    actions = np.zeros((n_steps, 1))\n",
    "    rewards = np.zeros((n_steps,))\n",
    "    terminateds = np.zeros((n_steps,))\n",
    "\n",
    "    # Variable to know if the episode is over (done = terminated or truncated)\n",
    "    done = False\n",
    "    # Start the first episode\n",
    "    obs, _ = env_discrete.reset()\n",
    "\n",
    "    ### YOUR CODE HERE\n",
    "    # You need to collect transitions for `n_steps` using\n",
    "    # a random agent (sample action uniformly).\n",
    "    # Do not forget to reset the environment if the current episode is over\n",
    "    # (done = terminated or truncated)\n",
    "    #\n",
    "    # TODO:\n",
    "    # 1. Sample a random action\n",
    "    # 2. Step in the env using this random action\n",
    "    # 3. Retrieve the new transition data (observation, reward, ...)\n",
    "    #  and update the numpy arrays (buffers)\n",
    "    # 4. Repeat until you collected `n_steps` transitions\n",
    "\n",
    "    for idx in range(n_steps):\n",
    "        # Sample a random action\n",
    "        action = env_discrete.action_space.sample()\n",
    "        # Step in the environment\n",
    "        next_obs, reward, terminated, truncated, info_ = env_discrete.step(action)\n",
    "\n",
    "        # Store the transition\n",
    "        # Note: we only record true termination (timeouts/truncations are artificial terminations)\n",
    "        observations[idx, :] = obs\n",
    "        next_observations[idx, :] = next_obs\n",
    "        actions[idx, :] = action\n",
    "        rewards[idx] = reward\n",
    "        terminateds[idx] = terminated\n",
    "        # Update current observation\n",
    "        obs = next_obs\n",
    "        # Check if the episode is over\n",
    "        done = terminated or truncated\n",
    "\n",
    "        # Don't forget to reset the env at the end of an episode\n",
    "        if done:\n",
    "            obs, _ = env_discrete.reset()\n",
    "\n",
    "    ### END OF YOUR CODE\n",
    "\n",
    "    return OfflineData(\n",
    "        observations,\n",
    "        next_observations,\n",
    "        actions,\n",
    "        rewards,\n",
    "        terminateds,\n",
    "    )"
   ]
  },
  {
   "cell_type": "markdown",
   "id": "dbe5d4b3-d3d6-4f82-9337-a8566c1fc707",
   "metadata": {},
   "source": [
    "Let's try the collect data method:"
   ]
  },
  {
   "cell_type": "code",
   "execution_count": 15,
   "id": "f499a940-a35f-4b8c-86bb-94231c41a87e",
   "metadata": {},
   "outputs": [],
   "source": [
    "n_steps = 50_000\n",
    "# Collect transitions for n_steps\n",
    "data = collect_data(env_discrete=env_discrete, n_steps=n_steps)"
   ]
  },
  {
   "cell_type": "code",
   "execution_count": 16,
   "id": "8ae0713b-63f3-40f0-8471-f3f7e3c53f88",
   "metadata": {},
   "outputs": [
    {
     "data": {
      "text/plain": [
       "np.float64(2252.0)"
      ]
     },
     "execution_count": 16,
     "metadata": {},
     "output_type": "execute_result"
    }
   ],
   "source": [
    "# Check the length of the collected data\n",
    "assert len(data.observations) == n_steps\n",
    "assert len(data.actions) == n_steps\n",
    "# Check that there are multiple episodes in the data\n",
    "assert not np.all(data.terminateds)\n",
    "assert np.any(data.terminateds)\n",
    "\n",
    "assert data.actions.shape == (n_steps, 1)\n",
    "assert data.rewards.shape == (n_steps,)\n",
    "\n",
    "\n",
    "np.sum(data.terminateds) "
   ]
  },
  {
   "cell_type": "code",
   "execution_count": 17,
   "id": "f815ff42-3c8e-4ab5-835f-70438171751b",
   "metadata": {},
   "outputs": [
    {
     "name": "stdout",
     "output_type": "stream",
     "text": [
      "Saving to ../data/CartPole-v1_data_dicretized_4.npz\n"
     ]
    }
   ],
   "source": [
    "from pathlib import Path\n",
    "\n",
    "from dqn_tutorial.fqi import save_data\n",
    "\n",
    "output_filename = Path(\"../data\") / f\"{env_id}_data_dicretized_{n_bins}\"\n",
    "# Create folder if it doesn't exist\n",
    "output_filename.parent.mkdir(parents=True, exist_ok=True)\n",
    "\n",
    "# Save collected data using numpy\n",
    "save_data(data, output_filename)"
   ]
  },
  {
   "cell_type": "markdown",
   "id": "2ff52b1a-6eb1-4284-b25f-8d59ab005ed5",
   "metadata": {},
   "source": [
    "## Fitted Q Iteration (FQI) Algorithm\n",
    "\n",
    "\n",
    "<div>\n",
    "    <img src=\"attachment:008df18a-8225-4766-aa89-c713f5f953af.png\" width=\"500\"/>\n",
    "</div>"
   ]
  },
  {
   "cell_type": "code",
   "execution_count": 18,
   "id": "045b251a-9ace-450b-afa9-7ee4128cdef6",
   "metadata": {},
   "outputs": [],
   "source": [
    "from functools import partial\n",
    "from pathlib import Path\n",
    "from typing import Optional\n",
    "\n",
    "import gymnasium as gym\n",
    "import numpy as np\n",
    "from gymnasium import spaces\n",
    "from sklearn import tree\n",
    "from sklearn.base import RegressorMixin\n",
    "from sklearn.exceptions import NotFittedError\n",
    "from sklearn.ensemble import GradientBoostingRegressor, RandomForestRegressor\n",
    "from sklearn.linear_model import LinearRegression\n",
    "from sklearn.preprocessing import PolynomialFeatures\n",
    "from sklearn.neighbors import KNeighborsRegressor"
   ]
  },
  {
   "cell_type": "markdown",
   "id": "239ad0de-bec9-4918-a691-4322d062c45a",
   "metadata": {},
   "source": [
    "### Choosing a Model\n",
    "\n",
    "With FQI, you can use any regression model.\n"
   ]
  },
  {
   "cell_type": "markdown",
   "id": "89193daf",
   "metadata": {},
   "source": [
    "#### Efficient Custom Linear Regression\n",
    "\n",
    "We will fit a regression model $f_\\theta(x) = y$ where $x$ is a one-hot encoded state-action pair and $y$ is the target Q-value.\n",
    "\n",
    "For linear regression we have $f_{\\theta}(x) = \\theta x $, where $\\theta$ is the matrix of parameters of shape $(1, |S| |A|)$.\n",
    "\n",
    "Because the input is one-hot encoded, only one element of $\\theta$ is used for each state-action pair. So this high-dimensional \n",
    "regression problem collapsed into $|S| |A|$ scalar regression problems, one for each state-action pair: \n",
    "\n",
    "$\\forall i \\in [0, |S| |A|]: f_{\\theta_i}(x) = \\theta_i x_i$\n",
    "\n",
    "Just like in the tabular case (previous tutorial), our model is composed of one parameter (Q-value) per state-action pair.\n",
    "\n",
    "To make the code more efficient, we will use a custom linear regression model that solve all these scalar regression problems instead of solving the high-dimensional regression problem."
   ]
  },
  {
   "cell_type": "code",
   "execution_count": 19,
   "id": "c9705432",
   "metadata": {},
   "outputs": [],
   "source": [
    "class CustomLinearRegression():\n",
    "    \"\"\"\n",
    "    Adapt the linear regression to deal with the case where the input is a one-hot encoded vector.\n",
    "    \"\"\"\n",
    "    def __init__(self):\n",
    "        self.models = []\n",
    "\n",
    "    def fit(self, X, y):\n",
    "        self.models = []\n",
    "        # Loop over all the possible states in the MDP\n",
    "        for state in range(X.shape[1]):\n",
    "            # Create a mask to select the rows where the state is active\n",
    "            mask = X[:, state] == 1\n",
    "            # print(f\"State {state} has {mask.sum()} samples\")\n",
    "            y_state = y[mask]\n",
    "            X_state = X[mask, state]\n",
    "            if len(y_state) == 0:\n",
    "                # print(f\"No data for state {state}\")\t\n",
    "                # No data for this state\n",
    "                model = None\n",
    "            else:\n",
    "                # Fit a linear regression for each state\n",
    "                model = LinearRegression().fit(X_state.reshape(-1, 1), y_state)\n",
    "            self.models.append(model)\n",
    "        return self\n",
    "\n",
    "    def predict(self, X):\n",
    "        # Loop over all the sampled states\n",
    "        for i in range(X.shape[0]):\n",
    "            state = np.where(X[i, :] == 1)[0]\n",
    "            assert len(state) == 1\n",
    "            state = state[0]\n",
    "            model = self.models[state]\n",
    "            if model is None:\n",
    "                y_pred = np.array([0.])\n",
    "            else:\n",
    "                y_pred = model.predict(X[i, state].reshape(-1, 1))\n",
    "            if i == 0:\n",
    "                y_preds = y_pred\n",
    "            else:\n",
    "                y_preds = np.concatenate((y_preds, y_pred))\n",
    "        return y_preds\n",
    "\n",
    "    def score(self, X, y):\n",
    "        y_preds = []\n",
    "        y_true = []\n",
    "        \n",
    "        # Loop over all the sampled states\n",
    "        for i in range(X.shape[0]):\n",
    "            state = np.where(X[i, :] == 1)[0]\n",
    "            assert len(state) == 1\n",
    "            state = state[0]\n",
    "            model = self.models[state]\n",
    "            # compute the score for each state\n",
    "            y_true.append(y[i])\n",
    "            y_preds.append(model.predict(X[i, state].reshape(-1, 1))[0])\n",
    "        y_true = np.array(y_true)\n",
    "        y_preds = np.array(y_preds)\n",
    "        u = ((y_true - y_preds) ** 2).sum()\n",
    "        v = ((y_true - y_true.mean()) ** 2).sum()\n",
    "        if v == 0:\n",
    "            return 0\n",
    "        return 1 - u/v"
   ]
  },
  {
   "cell_type": "code",
   "execution_count": 20,
   "id": "fd45e9db",
   "metadata": {},
   "outputs": [],
   "source": [
    "model_class = CustomLinearRegression # LinearRegression, GradientBoostingRegressor"
   ]
  },
  {
   "cell_type": "markdown",
   "id": "be7a24b4-a416-4607-af3a-9dfdbc203fc1",
   "metadata": {},
   "source": [
    "### Loading offline dataset"
   ]
  },
  {
   "cell_type": "code",
   "execution_count": 21,
   "id": "1fe29bd2-ea95-4778-b466-537a088615b0",
   "metadata": {},
   "outputs": [],
   "source": [
    "from dqn_tutorial.fqi import load_data\n",
    "\n",
    "# env_id = \"CartPole-v1\"\n",
    "output_filename = Path(\"../data\") / f\"{env_id}_data_dicretized_{n_bins}.npz\"\n",
    "render_mode = \"rgb_array\"\n",
    "\n",
    "# Create test environment\n",
    "env = gym.make(env_id, render_mode=render_mode)\n",
    "env_discrete = DiscretizeStateWrapper(env, n_bins=n_bins, custom_bin_boundaries=custom_bin_boundaries)\n",
    "\n",
    "# Load saved transitions\n",
    "data = load_data(output_filename)"
   ]
  },
  {
   "cell_type": "markdown",
   "id": "a7c0f461-9c04-48f2-ad57-21b555a7c041",
   "metadata": {},
   "source": [
    "### First Iteration of FQI\n",
    "\n",
    "For $n = 0$, the initial training set is defined as:\n",
    "\n",
    "- $x = \\text{one-hot-encoding}(s_t, a_t) \\in \\{0,1\\}^{|S| |A|} $\n",
    "- $y = r_t$\n",
    "\n",
    "We fit a regression model $f_\\theta(x) = y$ to obtain $ Q^{n=0}_\\theta(\\text{one-hot-encoding}(s, a)) $"
   ]
  },
  {
   "cell_type": "code",
   "execution_count": 22,
   "id": "8a5371aa",
   "metadata": {},
   "outputs": [],
   "source": [
    "import numpy as np\n",
    "\n",
    "def create_one_hot_obs_actions(obs, actions, action_space, observation_space):\n",
    "    \"\"\"\n",
    "    Create a batch one-hot encoded matrix that represents the combination \n",
    "    of observation and action for each sample.\n",
    "    \n",
    "    Each observation-action pair is encoded as a one-hot vector of length \n",
    "    observation_space.n * action_space.n. The one-hot index for a given pair \n",
    "    (o, a) is computed as:\n",
    "    \n",
    "        index = o * action_space.n + a\n",
    "\n",
    "    Parameters:\n",
    "        obs: np.ndarray of shape (N,)\n",
    "            A NumPy array of integers representing observations, each in the range [0, observation_space.n - 1].\n",
    "        actions: np.ndarray of shape (N,)\n",
    "            A NumPy array of integers representing actions, each in the range [0, action_space.n - 1].\n",
    "        action_space: object\n",
    "            An object with an attribute `n` that specifies the number of possible actions.\n",
    "        observation_space: object\n",
    "            An object with an attribute `n` that specifies the number of possible observations.\n",
    "    \n",
    "    Returns:\n",
    "        np.ndarray:\n",
    "            A one-hot encoded NumPy array of shape (N, observation_space.n * action_space.n) where each row \n",
    "            corresponds to a one-hot encoded representation of the observation-action pair.\n",
    "    \"\"\"\n",
    "    # Put obs and actions in the int type\n",
    "    obs = obs.astype(int)\n",
    "    actions = actions.astype(int)\n",
    "    # Number of samples\n",
    "    N = obs.shape[0]\n",
    "    \n",
    "    # Total number of possible observation-action combinations\n",
    "    total_dim = observation_space.n * action_space.n\n",
    "    \n",
    "    # Initialize the one-hot matrix with zeros\n",
    "    one_hot_matrix = np.zeros((N, total_dim), dtype=int)\n",
    "    \n",
    "    # Compute the index for each observation-action pair.\n",
    "    # For each sample, the index is: obs[i] * action_space.n + actions[i]\n",
    "    indices = obs * action_space.n + actions\n",
    "    \n",
    "    # Set the corresponding positions to 1 for the one-hot encoding\n",
    "    one_hot_matrix[np.arange(N), indices[:,0]] = 1\n",
    "    \n",
    "    return one_hot_matrix"
   ]
  },
  {
   "cell_type": "code",
   "execution_count": 23,
   "id": "26940b3e-4c9a-4632-a198-2e0ce7b12b88",
   "metadata": {},
   "outputs": [],
   "source": [
    "# First iteration:\n",
    "# The target q-value is the reward obtained\n",
    "targets = data.rewards.copy()\n",
    "# Create input for current observations and actions\n",
    "# Create a one-hot encoder of the observations and actions\n",
    "# so we can predict qf(s_t, a_t)\n",
    "current_obs_input = create_one_hot_obs_actions(data.observations, data.actions, env_discrete.action_space, env_discrete.observation_space)"
   ]
  },
  {
   "cell_type": "code",
   "execution_count": 24,
   "id": "10624f00",
   "metadata": {},
   "outputs": [],
   "source": [
    "# Fit the estimator for the current target\n",
    "model = model_class().fit(current_obs_input, targets)"
   ]
  },
  {
   "cell_type": "markdown",
   "id": "5bf9544c-87f4-4872-9ae9-eef49c3a040a",
   "metadata": {},
   "source": [
    "### 1. Exercise (10 minutes): write the function to predict Q-Values\n",
    "\n",
    "\n",
    "<div>\n",
    "    <img src=\"attachment:e3d00cba-8345-4c65-8027-ab06d99d2305.png\" width=\"300\"/>\n",
    "</div>"
   ]
  },
  {
   "cell_type": "code",
   "execution_count": 25,
   "id": "1d1c52d1-4336-4caa-9d91-cfb641e7972a",
   "metadata": {},
   "outputs": [],
   "source": [
    "def get_q_values(\n",
    "    model: RegressorMixin,\n",
    "    obs: np.ndarray,\n",
    "    n_actions: int,\n",
    ") -> np.ndarray:\n",
    "    \"\"\"\n",
    "    Retrieve the q-values for a set of observations.\n",
    "    qf(q_t, action) for all possible actions.\n",
    "\n",
    "    :param model: Q-value estimator\n",
    "    :param obs: A batch of observations\n",
    "    :param n_actions: Number of discrete actions.\n",
    "    :return: The predicted q-values for the given observations\n",
    "        (batch_size, n_actions)\n",
    "    \"\"\"\n",
    "    batch_size = len(obs)\n",
    "    q_values = np.zeros((batch_size, n_actions))\n",
    "\n",
    "    ### YOUR CODE HERE\n",
    "    # TODO: for every possible actions a:\n",
    "    # 1. Create the regression model input $(s, a)$ for the action a\n",
    "    # and states s (here a batch of observations)\n",
    "    # 2. Predict the q-values for the batch of states\n",
    "    # 3. Update q-values array for the current action a\n",
    "\n",
    "    # Predict q-value for each action\n",
    "    for action_idx in range(n_actions):\n",
    "        # Note: we should do one hot encoding if not using CartPole (n_actions > 2)\n",
    "        # Create a vector of size (batch_size, 1) for the current action\n",
    "        # This allows to do batch prediction for all the provided observations\n",
    "        actions = action_idx * np.ones((batch_size, 1))\n",
    "        # Create a one-hot encoder of the observations and actions\n",
    "        model_input = create_one_hot_obs_actions(obs, actions, env_discrete.action_space, env_discrete.observation_space)\n",
    "\n",
    "        # Predict q-values for the given observation/action combination\n",
    "        # shape: (batch_size, 1)\n",
    "        predicted_q_values = model.predict(model_input)\n",
    "        # Update the q-values array for the current action\n",
    "        q_values[:, action_idx] = predicted_q_values\n",
    "\n",
    "    ### END OF YOUR CODE\n",
    "\n",
    "    return q_values"
   ]
  },
  {
   "cell_type": "markdown",
   "id": "353de669-1744-43be-a3dc-5310d23c72a4",
   "metadata": {},
   "source": [
    "Let's test it with a subset of the collected data:"
   ]
  },
  {
   "cell_type": "code",
   "execution_count": 26,
   "id": "6910968b-16db-41fe-a6d9-ff8c65322c85",
   "metadata": {},
   "outputs": [],
   "source": [
    "n_observations = 2\n",
    "n_actions = int(env_discrete.action_space.n)\n",
    "\n",
    "q_values = get_q_values(model, data.observations[:n_observations], n_actions)\n",
    "\n",
    "assert q_values.shape == (n_observations, n_actions)"
   ]
  },
  {
   "cell_type": "markdown",
   "id": "a883ff38-48e9-4f7c-8692-33a9d1b325d2",
   "metadata": {},
   "source": [
    "### 2. Exercise (8 minutes): write the function to evaluate a model\n",
    "\n",
    "A greedy policy $\\pi(s)$ can be defined using the q-value:\n",
    "\n",
    "$\\pi(s) = argmax_{a \\in A} Q(\\text{one-hot-encoding}(s, a))$.\n",
    "\n",
    "It is the policy that takes the action with the highest q-value for a given state."
   ]
  },
  {
   "cell_type": "code",
   "execution_count": 27,
   "id": "2b1f4b18-a811-43fa-925d-20ad2f4d52d7",
   "metadata": {},
   "outputs": [],
   "source": [
    "import os\n",
    "\n",
    "from gymnasium.wrappers import RecordVideo\n",
    "\n",
    "\n",
    "def evaluate(\n",
    "    model: RegressorMixin,\n",
    "    env_discrete: gym.Env,\n",
    "    n_eval_episodes: int = 10,\n",
    "    video_name: Optional[str] = None,\n",
    ") -> None:\n",
    "    episode_returns, episode_reward = [], 0.0\n",
    "    total_episodes = 0\n",
    "    done = False\n",
    "\n",
    "    # Setup video recorder\n",
    "    video_recorder = None\n",
    "    if video_name is not None and env_discrete.render_mode == \"rgb_array\":\n",
    "        os.makedirs(\"../logs/videos/\", exist_ok=True)\n",
    "\n",
    "        # New gym recorder always wants to cut video into episodes,\n",
    "        # set video length big enough but not to inf (will cut into episodes)\n",
    "        env_discrete = RecordVideo(env_discrete, \"../logs/videos\", step_trigger=lambda _: False, video_length=100_000)\n",
    "        env_discrete.start_recording(video_name)\n",
    "\n",
    "    obs, _ = env_discrete.reset()\n",
    "    print(obs.shape)\n",
    "    n_actions = int(env_discrete.action_space.n)\n",
    "    assert isinstance(env_discrete.action_space, spaces.Discrete), \"FQI only support discrete actions\"\n",
    "\n",
    "    while total_episodes < n_eval_episodes:\n",
    "\n",
    "        ### YOUR CODE HERE\n",
    "\n",
    "        # Retrieve the q-values for the current observation\n",
    "        # you need to re-use `get_q_values()`\n",
    "        # Note: you need to add a batch dimension to the observation\n",
    "        # you can use `obs[np.newaxis, ...]` for that: (obs_dim,) -> (batch_size=1, obs_dim)\n",
    "        q_values = get_q_values(\n",
    "            model,\n",
    "            obs[np.newaxis, ...],\n",
    "            n_actions,\n",
    "        )\n",
    "        # Select the action that maximizes the q-value for each state\n",
    "        # Don't forget to remove the batch dimension, you can `.item()` for that\n",
    "        best_action = int(np.argmax(q_values, axis=1).item())\n",
    "\n",
    "        # Send the action to the env\n",
    "        obs, reward, terminated, truncated, _ = env_discrete.step(best_action)\n",
    "\n",
    "        ### END OF YOUR CODE\n",
    "\n",
    "        episode_reward += float(reward)\n",
    "\n",
    "        done = terminated or truncated\n",
    "        if done:\n",
    "            episode_returns.append(episode_reward)\n",
    "            episode_reward = 0.0\n",
    "            total_episodes += 1\n",
    "            obs, _ = env_discrete.reset()\n",
    "\n",
    "    if isinstance(env_discrete, RecordVideo):\n",
    "        print(f\"Saving video to ../logs/videos/{video_name}\")\n",
    "        env_discrete.close()\n",
    "\n",
    "    print(f\"Total reward = {np.mean(episode_returns):.2f} +/- {np.std(episode_returns):.2f}\")"
   ]
  },
  {
   "cell_type": "code",
   "execution_count": 28,
   "id": "23e326d9-1fa7-4efd-a841-b1d9e5ef9484",
   "metadata": {},
   "outputs": [
    {
     "name": "stdout",
     "output_type": "stream",
     "text": [
      "()\n",
      "Total reward = 9.30 +/- 0.90\n"
     ]
    }
   ],
   "source": [
    "# Evaluate the first iteration\n",
    "evaluate(model, env_discrete, n_eval_episodes=10)"
   ]
  },
  {
   "cell_type": "code",
   "execution_count": 29,
   "id": "aa487781",
   "metadata": {},
   "outputs": [
    {
     "name": "stdout",
     "output_type": "stream",
     "text": [
      "Score: 0.00\n"
     ]
    }
   ],
   "source": [
    "print(f\"Score: {model.score(current_obs_input, targets):.2f}\")"
   ]
  },
  {
   "cell_type": "markdown",
   "id": "eced782e-653d-4041-8473-2c39d12ba9a9",
   "metadata": {},
   "source": [
    "### 3. Exercise (20 minutes): the Fitted Q Iterations\n",
    "\n",
    "1. Create the training set based on the previous iteration $ Q^{n-1}_\\theta(s, a) $ and the transitions:\n",
    "- input: $x = \\text{one-hot-encoding}(s_t, a_t)$\n",
    "- if $s_{t+1}$ is non-terminal: $y = r_t + \\gamma \\cdot \\max_{a' \\in A}(Q^{n-1}_\\theta(\\text{one-hot-encoding}(s_{t+1}, a')))$\n",
    "- if $s_{t+1}$ is terminal, do not bootstrap: $y = r_t$\n",
    "\n",
    "2. Fit a model $f_\\theta$ using a regression algorithm to obtain $ Q^{n}_\\theta(\\text{one-hot-encoding}(s, a))$\n",
    " \n",
    "\\begin{aligned}\n",
    " f_\\theta(x) = y\n",
    "\\end{aligned}\n",
    "\n",
    "4. Repeat, $n = n + 1$"
   ]
  },
  {
   "cell_type": "markdown",
   "id": "5d824b98-6360-4d4e-a3e2-584c0c36665e",
   "metadata": {},
   "source": [
    "First, let's define some constants:"
   ]
  },
  {
   "cell_type": "code",
   "execution_count": 30,
   "id": "7cbff0d8-eab0-4cec-847e-23bc1c509359",
   "metadata": {},
   "outputs": [],
   "source": [
    "# Max number of iterations\n",
    "n_iterations = 20\n",
    "# How often do we evaluate the learned model\n",
    "eval_freq = 2\n",
    "# How many episodes to evaluate every eval-freq\n",
    "n_eval_episodes = 10\n",
    "# discount factor\n",
    "gamma = 0.99\n",
    "# Number of discrete actions\n",
    "n_actions = int(env_discrete.action_space.n)"
   ]
  },
  {
   "cell_type": "markdown",
   "id": "18d564da-7170-4bf8-8259-f19d0b12bcbd",
   "metadata": {},
   "source": [
    "Then do several iteration of the FQI algorithm"
   ]
  },
  {
   "cell_type": "code",
   "execution_count": 31,
   "id": "21c99207-4a80-4263-8b13-1818f65632e1",
   "metadata": {},
   "outputs": [
    {
     "name": "stdout",
     "output_type": "stream",
     "text": [
      "Iter 2\n",
      "Score: 0.53\n",
      "()\n",
      "Total reward = 42.60 +/- 8.37\n",
      "Iter 4\n",
      "Score: 0.66\n",
      "()\n",
      "Total reward = 133.90 +/- 33.19\n",
      "Iter 6\n",
      "Score: 0.69\n",
      "()\n",
      "Total reward = 135.90 +/- 50.13\n",
      "Iter 8\n",
      "Score: 0.70\n",
      "()\n",
      "Total reward = 150.40 +/- 34.98\n",
      "Iter 10\n",
      "Score: 0.70\n",
      "()\n",
      "Total reward = 143.80 +/- 39.18\n",
      "Iter 12\n",
      "Score: 0.70\n",
      "()\n",
      "Total reward = 141.20 +/- 50.93\n",
      "Iter 14\n",
      "Score: 0.70\n",
      "()\n",
      "Total reward = 133.70 +/- 46.17\n",
      "Iter 16\n",
      "Score: 0.70\n",
      "()\n",
      "Total reward = 138.60 +/- 37.52\n",
      "Iter 18\n",
      "Score: 0.70\n",
      "()\n",
      "Total reward = 132.40 +/- 27.77\n",
      "Iter 20\n",
      "Score: 0.70\n",
      "()\n",
      "Total reward = 131.70 +/- 40.40\n"
     ]
    }
   ],
   "source": [
    "for iter_idx in range(n_iterations):\n",
    "    ### YOUR CODE HERE\n",
    "    # TODO:\n",
    "    # 1. Compute the q values for the next states using\n",
    "    # the previous regression model\n",
    "    # 2. Keep only the next q values that correspond\n",
    "    # to the greedy-policy\n",
    "    # 3. Construct the regression target (TD(0) target)\n",
    "    # 4. Fit a new regression model with this new target\n",
    "\n",
    "    # Construct TD(0) target\n",
    "    # using current model and the next observations\n",
    "    \n",
    "    # First, retrieve the q-values for the next states\n",
    "    # for all possible actions\n",
    "    # you need to use `get_q_values()` method\n",
    "    next_q_values = get_q_values(\n",
    "        model,\n",
    "        data.next_observations,\n",
    "        n_actions=n_actions,\n",
    "    )\n",
    "    # Follow-greedy policy: use the action with the highest q-value\n",
    "    # to compute the next q-values\n",
    "    next_q_values = next_q_values.max(axis=1)\n",
    "    # The new target is the reward + what our agent expect to get\n",
    "    # if it follows a greedy policy (follow action with the highest q-value)\n",
    "    # Reminder: you should not bootstrap if terminated=True\n",
    "    # (you can mask the next q values for that using `np.logical_not`)\n",
    "    should_bootstrap = np.logical_not(data.terminateds) # (1 - data.terminateds)\n",
    "    targets = data.rewards + gamma * should_bootstrap * next_q_values\n",
    "    # Update the q-value estimate with the current target,\n",
    "    # i.e., fit a regression model using the new target\n",
    "    model = model_class().fit(current_obs_input, targets)\n",
    "\n",
    "    ### END OF YOUR CODE\n",
    "\n",
    "    if (iter_idx + 1) % eval_freq == 0:\n",
    "        print(f\"Iter {iter_idx + 1}\")\n",
    "        print(f\"Score: {model.score(current_obs_input, targets):.2f}\")\n",
    "        evaluate(model, env_discrete, n_eval_episodes)"
   ]
  },
  {
   "cell_type": "markdown",
   "id": "e3477740-bfe4-4e0b-8a5d-cd0206786c8b",
   "metadata": {},
   "source": [
    "### Record a video of the trained agent"
   ]
  },
  {
   "cell_type": "code",
   "execution_count": 34,
   "id": "da8d90cc-2d77-4682-a97c-a3dacd081f38",
   "metadata": {},
   "outputs": [
    {
     "name": "stderr",
     "output_type": "stream",
     "text": [
      "/home/guillaumep/miniconda3/envs/ct-rl-test/lib/python3.10/site-packages/gymnasium/wrappers/rendering.py:283: UserWarning: \u001b[33mWARN: Overwriting existing videos at /home/guillaumep/ct-rl_tutorials/notebooks/logs/videos folder (try specifying a different `video_folder` for the `RecordVideo` wrapper if this is not desired)\u001b[0m\n",
      "  logger.warn(\n"
     ]
    },
    {
     "name": "stdout",
     "output_type": "stream",
     "text": [
      "()\n",
      "Saving video to ../logs/videos/FQI_CartPole-v1_tabular\n",
      "Total reward = 136.75 +/- 49.23\n"
     ]
    }
   ],
   "source": [
    "eval_env = gym.make(env_id, render_mode=\"rgb_array\")\n",
    "eval_env = DiscretizeStateWrapper(eval_env, n_bins=n_bins, custom_bin_boundaries=custom_bin_boundaries)\n",
    "\n",
    "video_name = f\"FQI_{env_id}_tabular\"\n",
    "n_eval_episodes = 4\n",
    "\n",
    "evaluate(model, eval_env, n_eval_episodes, video_name=video_name)"
   ]
  },
  {
   "cell_type": "code",
   "execution_count": 35,
   "id": "bfc66910-de41-4622-9811-96addf8ba8d3",
   "metadata": {},
   "outputs": [
    {
     "data": {
      "text/html": [
       "<video alt=\"../logs/videos/FQI_CartPole-v1_tabular.mp4\" autoplay\n",
       "                    loop controls style=\"height: 400px;\">\n",
       "                    <source src=\"data:video/mp4;base64,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\" type=\"video/mp4\" />\n",
       "                </video>"
      ],
      "text/plain": [
       "<IPython.core.display.HTML object>"
      ]
     },
     "metadata": {},
     "output_type": "display_data"
    }
   ],
   "source": [
    "from dqn_tutorial.notebook_utils import show_videos\n",
    "\n",
    "# print(f\"FQI agent on {env_id} after {n_iterations} iterations:\")\n",
    "show_videos(\"../logs/videos/\", prefix=video_name)"
   ]
  }
 ],
 "metadata": {
  "kernelspec": {
   "display_name": "ct-rl-test",
   "language": "python",
   "name": "python3"
  },
  "language_info": {
   "codemirror_mode": {
    "name": "ipython",
    "version": 3
   },
   "file_extension": ".py",
   "mimetype": "text/x-python",
   "name": "python",
   "nbconvert_exporter": "python",
   "pygments_lexer": "ipython3",
   "version": "3.10.16"
  }
 },
 "nbformat": 4,
 "nbformat_minor": 5
}
